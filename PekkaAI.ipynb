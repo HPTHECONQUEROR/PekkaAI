{
 "cells": [
  {
   "cell_type": "code",
   "execution_count": 1,
   "id": "8caf8c15",
   "metadata": {},
   "outputs": [],
   "source": [
    "import random\n",
    "import nltk\n",
    "from nltk import bigrams, FreqDist, ConditionalFreqDist\n",
    "from itertools import islice\n",
    "import os\n",
    "import string\n",
    "import time\n",
    "import tkinter as tk\n",
    "from tkinter import messagebox"
   ]
  },
  {
   "cell_type": "code",
   "execution_count": 2,
   "id": "10499557",
   "metadata": {},
   "outputs": [
    {
     "name": "stderr",
     "output_type": "stream",
     "text": [
      "[nltk_data] Downloading package punkt to\n",
      "[nltk_data]     C:\\Users\\harit\\AppData\\Roaming\\nltk_data...\n",
      "[nltk_data]   Package punkt is already up-to-date!\n"
     ]
    },
    {
     "data": {
      "text/plain": [
       "True"
      ]
     },
     "execution_count": 2,
     "metadata": {},
     "output_type": "execute_result"
    }
   ],
   "source": [
    "nltk.download(\"punkt\")"
   ]
  },
  {
   "cell_type": "code",
   "execution_count": 3,
   "id": "6a715cec",
   "metadata": {},
   "outputs": [
    {
     "name": "stdout",
     "output_type": "stream",
     "text": [
      "14.590470314025879\n"
     ]
    }
   ],
   "source": [
    "start_time = time.time()\n",
    "\n",
    "input_data_dir = \"data\"\n",
    "punctuation = str.maketrans(string.punctuation, ' ' * len(string.punctuation))\n",
    "\n",
    "def is_hidden(filepath):\n",
    "    return os.path.basename(filepath).startswith(\".\")\n",
    "\n",
    "text_data = \"\"\n",
    "for filename in os.listdir(input_data_dir):\n",
    "    filepath = os.path.join(input_data_dir, filename)\n",
    "    if not is_hidden(filepath):\n",
    "        with open(filepath) as infile:\n",
    "            text = infile.read().translate(punctuation)\n",
    "            text_data += text\n",
    "\n",
    "words = nltk.word_tokenize(text_data.lower())\n",
    "bi_grams = list(bigrams(words))\n",
    "bi_gram_freq_dist = FreqDist(bi_grams)\n",
    "\n",
    "topk = 3\n",
    "\n",
    "top_bigrams_per_first_word = {}\n",
    "\n",
    "for (first_word, second_word), freq in bi_gram_freq_dist.items():\n",
    "    if first_word not in top_bigrams_per_first_word:\n",
    "        top_bigrams_per_first_word[first_word] = []\n",
    "    top_bigrams_per_first_word[first_word].append((freq, second_word))\n",
    "\n",
    "for first_word in top_bigrams_per_first_word:\n",
    "    top_bigrams_per_first_word[first_word].sort(reverse=True)\n",
    "    top_bigrams_per_first_word[first_word] = [second_word for _, second_word in top_bigrams_per_first_word[first_word][:topk]]\n",
    "\n",
    "filtered_bi_grams = [(first_word, second_word) for first_word in top_bigrams_per_first_word for second_word in top_bigrams_per_first_word[first_word]]\n",
    "bi_gram_freq = ConditionalFreqDist(filtered_bi_grams)\n",
    "\n",
    "end_time = time.time()\n",
    "elapsed_time = end_time - start_time\n",
    "print(elapsed_time)"
   ]
  },
  {
   "cell_type": "code",
   "execution_count": 4,
   "id": "e906279d",
   "metadata": {},
   "outputs": [],
   "source": [
    "def generate_sentence(word, num_words):\n",
    "    word = word.lower()\n",
    "    for _ in range(num_words):\n",
    "        print(word, end=\" \")\n",
    "        next_words = list(bi_gram_freq[word].keys())\n",
    "        if next_words:\n",
    "            word = random.choice(next_words)\n",
    "        else:\n",
    "            break\n",
    "    print()"
   ]
  },
  {
   "cell_type": "code",
   "execution_count": 6,
   "id": "d1074327",
   "metadata": {},
   "outputs": [],
   "source": [
    "def generate_sentence():\n",
    "    input_word = entry_word.get().lower()\n",
    "    try:\n",
    "        num_words = int(entry_num_words.get())\n",
    "    except ValueError:\n",
    "        messagebox.showerror(\"Error\", \"Please enter a valid number of words.\")\n",
    "        return\n",
    "\n",
    "    sentence = \"\"\n",
    "    for _ in range(num_words):\n",
    "        sentence += input_word + \" \"\n",
    "        next_words = list(bi_gram_freq[input_word].keys())\n",
    "        if next_words:\n",
    "            input_word = random.choice(next_words)\n",
    "        else:\n",
    "            break\n",
    "\n",
    "    output_label.config(text=sentence.capitalize())\n",
    "\n",
    "# Create main window\n",
    "root = tk.Tk()\n",
    "root.title(\"PEKKA\")\n",
    "\n",
    "# Create input frame\n",
    "input_frame = tk.Frame(root)\n",
    "input_frame.pack(pady=10)\n",
    "\n",
    "# Input word label and entry\n",
    "label_word = tk.Label(input_frame, text=\"Input word:\")\n",
    "label_word.grid(row=0, column=0)\n",
    "entry_word = tk.Entry(input_frame)\n",
    "entry_word.grid(row=0, column=1)\n",
    "entry_word.focus()\n",
    "\n",
    "# Number of words label and entry\n",
    "label_num_words = tk.Label(input_frame, text=\"Number of words:\")\n",
    "label_num_words.grid(row=1, column=0)\n",
    "entry_num_words = tk.Entry(input_frame)\n",
    "entry_num_words.grid(row=1, column=1)\n",
    "\n",
    "# Button to generate sentence\n",
    "button_generate = tk.Button(input_frame, text=\"Generate\", command=generate_sentence)\n",
    "button_generate.grid(row=2, columnspan=2)\n",
    "\n",
    "# Output frame\n",
    "output_frame = tk.Frame(root)\n",
    "output_frame.pack(pady=10)\n",
    "\n",
    "# Output label to display generated sentence\n",
    "output_label = tk.Label(output_frame, text=\"\", wraplength=400)\n",
    "output_label.pack()\n",
    "\n",
    "root.mainloop()\n"
   ]
  },
  {
   "cell_type": "code",
   "execution_count": null,
   "id": "6a59ac50",
   "metadata": {},
   "outputs": [],
   "source": []
  }
 ],
 "metadata": {
  "kernelspec": {
   "display_name": "cuda-gpt",
   "language": "python",
   "name": "cuda"
  },
  "language_info": {
   "codemirror_mode": {
    "name": "ipython",
    "version": 3
   },
   "file_extension": ".py",
   "mimetype": "text/x-python",
   "name": "python",
   "nbconvert_exporter": "python",
   "pygments_lexer": "ipython3",
   "version": "3.11.5"
  }
 },
 "nbformat": 4,
 "nbformat_minor": 5
}
