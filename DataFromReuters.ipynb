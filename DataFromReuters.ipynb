{
 "cells": [
  {
   "cell_type": "code",
   "execution_count": 1,
   "id": "54484d47",
   "metadata": {},
   "outputs": [],
   "source": [
    "import os\n",
    "import nltk\n",
    "from nltk.corpus import reuters"
   ]
  },
  {
   "cell_type": "code",
   "execution_count": 2,
   "id": "4677cdbd",
   "metadata": {},
   "outputs": [
    {
     "name": "stderr",
     "output_type": "stream",
     "text": [
      "[nltk_data] Downloading package reuters to\n",
      "[nltk_data]     C:\\Users\\harit\\AppData\\Roaming\\nltk_data...\n",
      "[nltk_data]   Package reuters is already up-to-date!\n"
     ]
    },
    {
     "data": {
      "text/plain": [
       "True"
      ]
     },
     "execution_count": 2,
     "metadata": {},
     "output_type": "execute_result"
    }
   ],
   "source": [
    "# Ensure that the NLTK Reuters corpus is downloaded\n",
    "nltk.download('reuters')"
   ]
  },
  {
   "cell_type": "code",
   "execution_count": 3,
   "id": "c462e41a",
   "metadata": {},
   "outputs": [],
   "source": [
    "# Create a directory to store the text files\n",
    "os.makedirs('data', exist_ok=True)"
   ]
  },
  {
   "cell_type": "code",
   "execution_count": 4,
   "id": "3c2e191e",
   "metadata": {},
   "outputs": [],
   "source": [
    "# Iterate through the fileids in the Reuters corpus\n",
    "for fileid in reuters.fileids():\n",
    "    # Retrieve the text of the news article\n",
    "    article_text = ' '.join(reuters.words(fileid))\n",
    "\n",
    "    # Construct the filename (you can also use\n",
    "    # the categories in the filename if needed)\n",
    "    filename = f'data/{fileid.replace(\"/\", \"_\")}.txt'\n",
    "\n",
    "    # Write the article text to a file\n",
    "    with open(filename, 'w', encoding='utf-8') as file:\n",
    "        file.write(article_text)"
   ]
  }
 ],
 "metadata": {
  "kernelspec": {
   "display_name": "Python 3 (ipykernel)",
   "language": "python",
   "name": "python3"
  },
  "language_info": {
   "codemirror_mode": {
    "name": "ipython",
    "version": 3
   },
   "file_extension": ".py",
   "mimetype": "text/x-python",
   "name": "python",
   "nbconvert_exporter": "python",
   "pygments_lexer": "ipython3",
   "version": "3.11.5"
  }
 },
 "nbformat": 4,
 "nbformat_minor": 5
}
